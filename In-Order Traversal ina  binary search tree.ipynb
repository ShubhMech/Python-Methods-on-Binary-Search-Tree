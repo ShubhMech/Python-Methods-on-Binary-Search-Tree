{
 "cells": [
  {
   "cell_type": "code",
   "execution_count": 120,
   "id": "0f17f5ec-6578-47ab-b991-82d18b3714d9",
   "metadata": {},
   "outputs": [],
   "source": [
    "class Binary_search_tree:\n",
    "    def __init__(self,data):\n",
    "        self.data=data\n",
    "        self.left=None\n",
    "        self.right=None"
   ]
  },
  {
   "cell_type": "code",
   "execution_count": 121,
   "id": "5b5304e8-a176-45ca-ac3d-40693daf3434",
   "metadata": {},
   "outputs": [],
   "source": [
    "root=Binary_search_tree(4)"
   ]
  },
  {
   "cell_type": "code",
   "execution_count": 122,
   "id": "35ea5d4d-f098-4e0c-bee0-a60a0497b8fd",
   "metadata": {},
   "outputs": [
    {
     "data": {
      "text/plain": [
       "<__main__.Binary_search_tree at 0x1a071465970>"
      ]
     },
     "execution_count": 122,
     "metadata": {},
     "output_type": "execute_result"
    }
   ],
   "source": [
    "root"
   ]
  },
  {
   "cell_type": "code",
   "execution_count": 123,
   "id": "e1284366-5499-4401-9c3a-56e2be3af36b",
   "metadata": {},
   "outputs": [
    {
     "data": {
      "text/plain": [
       "4"
      ]
     },
     "execution_count": 123,
     "metadata": {},
     "output_type": "execute_result"
    }
   ],
   "source": [
    "root.data"
   ]
  },
  {
   "cell_type": "code",
   "execution_count": 124,
   "id": "ac9a56ad-041d-4e1d-9eba-b5befdcfb5f7",
   "metadata": {},
   "outputs": [],
   "source": [
    "root.left"
   ]
  },
  {
   "cell_type": "code",
   "execution_count": 125,
   "id": "f84bf6c6-f10e-4c00-9c64-498ba8d5039a",
   "metadata": {},
   "outputs": [],
   "source": [
    "root.right"
   ]
  },
  {
   "cell_type": "code",
   "execution_count": 126,
   "id": "e7961bd3-507c-4c10-a3de-aaa2528b49dd",
   "metadata": {},
   "outputs": [],
   "source": [
    "def insert(root,val):\n",
    "    node= Binary_search_tree(val)\n",
    "    \n",
    "    if root.left == None and val<root.data:\n",
    "        root.left=node\n",
    "    elif root.right == None and val> root.data:\n",
    "        root.right=node\n",
    "        \n",
    "        \n",
    "        \n",
    "    \n",
    "    else:\n",
    "        if val<root.data:\n",
    "            insert(root.left,val)\n",
    "        else:\n",
    "            insert(root.right,val)\n",
    "\n",
    "        "
   ]
  },
  {
   "cell_type": "code",
   "execution_count": 127,
   "id": "b41fda57-cb78-405e-b20b-cd0cf421dc4b",
   "metadata": {},
   "outputs": [],
   "source": [
    "insert(root,78)"
   ]
  },
  {
   "cell_type": "code",
   "execution_count": 128,
   "id": "e5ae3619-4e9f-41cd-bf0e-a4cc4fa19dc4",
   "metadata": {},
   "outputs": [
    {
     "data": {
      "text/plain": [
       "<__main__.Binary_search_tree at 0x1a071465970>"
      ]
     },
     "execution_count": 128,
     "metadata": {},
     "output_type": "execute_result"
    }
   ],
   "source": [
    "root"
   ]
  },
  {
   "cell_type": "code",
   "execution_count": 129,
   "id": "9d518bfd-1a4d-4c8c-84c4-b3bd527c08e3",
   "metadata": {},
   "outputs": [],
   "source": [
    "root.left"
   ]
  },
  {
   "cell_type": "code",
   "execution_count": 130,
   "id": "b4375235-f787-43e4-980a-0b9687d93a95",
   "metadata": {},
   "outputs": [
    {
     "data": {
      "text/plain": [
       "<__main__.Binary_search_tree at 0x1a070ff4eb0>"
      ]
     },
     "execution_count": 130,
     "metadata": {},
     "output_type": "execute_result"
    }
   ],
   "source": [
    "root.right"
   ]
  },
  {
   "cell_type": "code",
   "execution_count": 131,
   "id": "6e558462-4e17-4b84-9b4c-faaf5e3e2607",
   "metadata": {},
   "outputs": [
    {
     "data": {
      "text/plain": [
       "78"
      ]
     },
     "execution_count": 131,
     "metadata": {},
     "output_type": "execute_result"
    }
   ],
   "source": [
    "root.right.data"
   ]
  },
  {
   "cell_type": "code",
   "execution_count": 132,
   "id": "91d8185d-9867-4cec-983d-3f7bc5ab3065",
   "metadata": {},
   "outputs": [],
   "source": [
    "insert(root,0.7)"
   ]
  },
  {
   "cell_type": "code",
   "execution_count": 133,
   "id": "9cea5f32-f340-40dc-8f1b-a8e39a00a217",
   "metadata": {},
   "outputs": [
    {
     "data": {
      "text/plain": [
       "<__main__.Binary_search_tree at 0x1a071465970>"
      ]
     },
     "execution_count": 133,
     "metadata": {},
     "output_type": "execute_result"
    }
   ],
   "source": [
    "root"
   ]
  },
  {
   "cell_type": "code",
   "execution_count": 134,
   "id": "e4eefa60-0e62-423d-b1f8-d74892871f63",
   "metadata": {},
   "outputs": [
    {
     "data": {
      "text/plain": [
       "0.7"
      ]
     },
     "execution_count": 134,
     "metadata": {},
     "output_type": "execute_result"
    }
   ],
   "source": [
    "root.left.data"
   ]
  },
  {
   "cell_type": "code",
   "execution_count": 135,
   "id": "93a5f064-2aee-42a9-b21f-27b0c435484d",
   "metadata": {},
   "outputs": [
    {
     "name": "stdout",
     "output_type": "stream",
     "text": [
      "None\n"
     ]
    }
   ],
   "source": [
    "print(root.left.left)"
   ]
  },
  {
   "cell_type": "code",
   "execution_count": 136,
   "id": "00bf399c-2162-48e5-94d3-951d7b5ff749",
   "metadata": {},
   "outputs": [],
   "source": [
    "insert(root,45)"
   ]
  },
  {
   "cell_type": "code",
   "execution_count": 137,
   "id": "c370b452-339b-4924-a654-35c916536728",
   "metadata": {},
   "outputs": [],
   "source": [
    "insert(root,14)"
   ]
  },
  {
   "cell_type": "code",
   "execution_count": 138,
   "id": "4b788aef-ae41-4c5e-b3d9-131fd6485634",
   "metadata": {},
   "outputs": [
    {
     "data": {
      "text/plain": [
       "4"
      ]
     },
     "execution_count": 138,
     "metadata": {},
     "output_type": "execute_result"
    }
   ],
   "source": [
    "root.data"
   ]
  },
  {
   "cell_type": "code",
   "execution_count": 139,
   "id": "0dd96d4c-3b0a-4527-a454-de965dceb7ab",
   "metadata": {},
   "outputs": [
    {
     "data": {
      "text/plain": [
       "0.7"
      ]
     },
     "execution_count": 139,
     "metadata": {},
     "output_type": "execute_result"
    }
   ],
   "source": [
    "root.left.data"
   ]
  },
  {
   "cell_type": "code",
   "execution_count": 140,
   "id": "8ba5b605-3353-4dfd-a3dc-080fd6f227a0",
   "metadata": {},
   "outputs": [],
   "source": [
    "root.left.left"
   ]
  },
  {
   "cell_type": "code",
   "execution_count": 141,
   "id": "4899f081-8927-4e41-81fa-7ae03892a2d9",
   "metadata": {},
   "outputs": [],
   "source": [
    "root.left.right"
   ]
  },
  {
   "cell_type": "code",
   "execution_count": 142,
   "id": "a8594baf-2758-4388-b8b7-b5dd2d864a78",
   "metadata": {},
   "outputs": [
    {
     "data": {
      "text/plain": [
       "78"
      ]
     },
     "execution_count": 142,
     "metadata": {},
     "output_type": "execute_result"
    }
   ],
   "source": [
    "root.right.data"
   ]
  },
  {
   "cell_type": "code",
   "execution_count": 143,
   "id": "775c8916-d47f-49c0-9a4a-4adfbb944896",
   "metadata": {},
   "outputs": [
    {
     "data": {
      "text/plain": [
       "45"
      ]
     },
     "execution_count": 143,
     "metadata": {},
     "output_type": "execute_result"
    }
   ],
   "source": [
    "root.right.left.data"
   ]
  },
  {
   "cell_type": "code",
   "execution_count": 144,
   "id": "e7507b1b-9a90-4172-8a56-69a1316ab177",
   "metadata": {},
   "outputs": [],
   "source": [
    "root.right.right"
   ]
  },
  {
   "cell_type": "code",
   "execution_count": 145,
   "id": "3cfeca16-06e6-4308-9cd5-2c025c1a60b3",
   "metadata": {},
   "outputs": [],
   "source": [
    "def pre_order_traversal(root):\n",
    "    if root==None:\n",
    "        return\n",
    "    else:\n",
    "        print(root.data)\n",
    "        pre_order_traversal(root.left)\n",
    "        pre_order_traversal(root.right)"
   ]
  },
  {
   "cell_type": "code",
   "execution_count": 146,
   "id": "cf4c4507-6344-4047-9565-05351028b62b",
   "metadata": {},
   "outputs": [
    {
     "name": "stdout",
     "output_type": "stream",
     "text": [
      "4\n",
      "0.7\n",
      "78\n",
      "45\n",
      "14\n"
     ]
    }
   ],
   "source": [
    "pre_order_traversal(root)"
   ]
  },
  {
   "cell_type": "code",
   "execution_count": 147,
   "id": "e0a241b3-36db-4b10-bd65-89fb2c51c63a",
   "metadata": {},
   "outputs": [],
   "source": [
    "def in_order_traversal(root):\n",
    "    if root==None:\n",
    "        return\n",
    "    else:\n",
    "#         print(root.data)\n",
    "        in_order_traversal(root.left)\n",
    "        print(root.data)\n",
    "        in_order_traversal(root.right)"
   ]
  },
  {
   "cell_type": "code",
   "execution_count": 148,
   "id": "da4dc400-ead7-43db-a7c4-89c4ae9c883b",
   "metadata": {},
   "outputs": [
    {
     "name": "stdout",
     "output_type": "stream",
     "text": [
      "0.7\n",
      "4\n",
      "14\n",
      "45\n",
      "78\n"
     ]
    }
   ],
   "source": [
    "in_order_traversal(root)"
   ]
  },
  {
   "cell_type": "code",
   "execution_count": null,
   "id": "d70659f6-01e2-4f3b-acbb-f33e84b56488",
   "metadata": {},
   "outputs": [],
   "source": []
  },
  {
   "cell_type": "code",
   "execution_count": null,
   "id": "c8ae96ae-bcce-4246-96f0-db1dfd6898b4",
   "metadata": {},
   "outputs": [],
   "source": []
  },
  {
   "cell_type": "code",
   "execution_count": null,
   "id": "c7d4d560-5598-4be6-a12d-809ecc7621df",
   "metadata": {},
   "outputs": [],
   "source": []
  },
  {
   "cell_type": "markdown",
   "id": "96e6c458-30d9-46ed-b0c4-46a64de4b354",
   "metadata": {},
   "source": []
  }
 ],
 "metadata": {
  "kernelspec": {
   "display_name": "Python 3",
   "language": "python",
   "name": "python3"
  },
  "language_info": {
   "codemirror_mode": {
    "name": "ipython",
    "version": 3
   },
   "file_extension": ".py",
   "mimetype": "text/x-python",
   "name": "python",
   "nbconvert_exporter": "python",
   "pygments_lexer": "ipython3",
   "version": "3.8.5"
  }
 },
 "nbformat": 4,
 "nbformat_minor": 5
}
