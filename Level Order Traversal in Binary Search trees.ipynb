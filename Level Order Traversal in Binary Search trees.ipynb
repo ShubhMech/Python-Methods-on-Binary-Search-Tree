{
 "cells": [
  {
   "cell_type": "code",
   "execution_count": 204,
   "id": "0f17f5ec-6578-47ab-b991-82d18b3714d9",
   "metadata": {},
   "outputs": [],
   "source": [
    "class Binary_search_tree:\n",
    "    def __init__(self,data):\n",
    "        self.data=data\n",
    "        self.left=None\n",
    "        self.right=None"
   ]
  },
  {
   "cell_type": "code",
   "execution_count": 205,
   "id": "5b5304e8-a176-45ca-ac3d-40693daf3434",
   "metadata": {},
   "outputs": [],
   "source": [
    "root=Binary_search_tree(4)"
   ]
  },
  {
   "cell_type": "code",
   "execution_count": 206,
   "id": "35ea5d4d-f098-4e0c-bee0-a60a0497b8fd",
   "metadata": {},
   "outputs": [
    {
     "data": {
      "text/plain": [
       "<__main__.Binary_search_tree at 0x1a070fe2400>"
      ]
     },
     "execution_count": 206,
     "metadata": {},
     "output_type": "execute_result"
    }
   ],
   "source": [
    "root"
   ]
  },
  {
   "cell_type": "code",
   "execution_count": 207,
   "id": "e1284366-5499-4401-9c3a-56e2be3af36b",
   "metadata": {},
   "outputs": [
    {
     "data": {
      "text/plain": [
       "4"
      ]
     },
     "execution_count": 207,
     "metadata": {},
     "output_type": "execute_result"
    }
   ],
   "source": [
    "root.data"
   ]
  },
  {
   "cell_type": "code",
   "execution_count": 208,
   "id": "ac9a56ad-041d-4e1d-9eba-b5befdcfb5f7",
   "metadata": {},
   "outputs": [],
   "source": [
    "root.left"
   ]
  },
  {
   "cell_type": "code",
   "execution_count": 209,
   "id": "f84bf6c6-f10e-4c00-9c64-498ba8d5039a",
   "metadata": {},
   "outputs": [],
   "source": [
    "root.right"
   ]
  },
  {
   "cell_type": "code",
   "execution_count": 210,
   "id": "e7961bd3-507c-4c10-a3de-aaa2528b49dd",
   "metadata": {},
   "outputs": [],
   "source": [
    "def insert(root,val):\n",
    "    node= Binary_search_tree(val)\n",
    "    \n",
    "    if root.left == None and val<root.data:\n",
    "        root.left=node\n",
    "    elif root.right == None and val>= root.data:\n",
    "        root.right=node\n",
    "        \n",
    "        \n",
    "        \n",
    "    \n",
    "    else:\n",
    "        if val<root.data:\n",
    "            insert(root.left,val)\n",
    "        elif val>= root.data :\n",
    "            insert(root.right,val)\n",
    "\n",
    "        "
   ]
  },
  {
   "cell_type": "code",
   "execution_count": 211,
   "id": "b41fda57-cb78-405e-b20b-cd0cf421dc4b",
   "metadata": {},
   "outputs": [],
   "source": [
    "insert(root,78)"
   ]
  },
  {
   "cell_type": "code",
   "execution_count": 212,
   "id": "e5ae3619-4e9f-41cd-bf0e-a4cc4fa19dc4",
   "metadata": {},
   "outputs": [
    {
     "data": {
      "text/plain": [
       "<__main__.Binary_search_tree at 0x1a070fe2400>"
      ]
     },
     "execution_count": 212,
     "metadata": {},
     "output_type": "execute_result"
    }
   ],
   "source": [
    "root"
   ]
  },
  {
   "cell_type": "code",
   "execution_count": 213,
   "id": "9d518bfd-1a4d-4c8c-84c4-b3bd527c08e3",
   "metadata": {},
   "outputs": [],
   "source": [
    "root.left"
   ]
  },
  {
   "cell_type": "code",
   "execution_count": 214,
   "id": "b4375235-f787-43e4-980a-0b9687d93a95",
   "metadata": {},
   "outputs": [
    {
     "data": {
      "text/plain": [
       "<__main__.Binary_search_tree at 0x1a0714786a0>"
      ]
     },
     "execution_count": 214,
     "metadata": {},
     "output_type": "execute_result"
    }
   ],
   "source": [
    "root.right"
   ]
  },
  {
   "cell_type": "code",
   "execution_count": 215,
   "id": "6e558462-4e17-4b84-9b4c-faaf5e3e2607",
   "metadata": {},
   "outputs": [
    {
     "data": {
      "text/plain": [
       "78"
      ]
     },
     "execution_count": 215,
     "metadata": {},
     "output_type": "execute_result"
    }
   ],
   "source": [
    "root.right.data"
   ]
  },
  {
   "cell_type": "code",
   "execution_count": 216,
   "id": "91d8185d-9867-4cec-983d-3f7bc5ab3065",
   "metadata": {},
   "outputs": [],
   "source": [
    "insert(root,0.7)"
   ]
  },
  {
   "cell_type": "code",
   "execution_count": 217,
   "id": "9cea5f32-f340-40dc-8f1b-a8e39a00a217",
   "metadata": {},
   "outputs": [
    {
     "data": {
      "text/plain": [
       "<__main__.Binary_search_tree at 0x1a070fe2400>"
      ]
     },
     "execution_count": 217,
     "metadata": {},
     "output_type": "execute_result"
    }
   ],
   "source": [
    "root"
   ]
  },
  {
   "cell_type": "code",
   "execution_count": 218,
   "id": "e4eefa60-0e62-423d-b1f8-d74892871f63",
   "metadata": {},
   "outputs": [
    {
     "data": {
      "text/plain": [
       "0.7"
      ]
     },
     "execution_count": 218,
     "metadata": {},
     "output_type": "execute_result"
    }
   ],
   "source": [
    "root.left.data"
   ]
  },
  {
   "cell_type": "code",
   "execution_count": 219,
   "id": "93a5f064-2aee-42a9-b21f-27b0c435484d",
   "metadata": {},
   "outputs": [
    {
     "name": "stdout",
     "output_type": "stream",
     "text": [
      "None\n"
     ]
    }
   ],
   "source": [
    "print(root.left.left)"
   ]
  },
  {
   "cell_type": "code",
   "execution_count": 220,
   "id": "00bf399c-2162-48e5-94d3-951d7b5ff749",
   "metadata": {},
   "outputs": [],
   "source": [
    "insert(root,45)"
   ]
  },
  {
   "cell_type": "code",
   "execution_count": 221,
   "id": "c370b452-339b-4924-a654-35c916536728",
   "metadata": {},
   "outputs": [],
   "source": [
    "insert(root,14)"
   ]
  },
  {
   "cell_type": "code",
   "execution_count": 222,
   "id": "4b788aef-ae41-4c5e-b3d9-131fd6485634",
   "metadata": {},
   "outputs": [
    {
     "data": {
      "text/plain": [
       "4"
      ]
     },
     "execution_count": 222,
     "metadata": {},
     "output_type": "execute_result"
    }
   ],
   "source": [
    "root.data"
   ]
  },
  {
   "cell_type": "code",
   "execution_count": 223,
   "id": "0dd96d4c-3b0a-4527-a454-de965dceb7ab",
   "metadata": {},
   "outputs": [
    {
     "data": {
      "text/plain": [
       "0.7"
      ]
     },
     "execution_count": 223,
     "metadata": {},
     "output_type": "execute_result"
    }
   ],
   "source": [
    "root.left.data"
   ]
  },
  {
   "cell_type": "code",
   "execution_count": 224,
   "id": "8ba5b605-3353-4dfd-a3dc-080fd6f227a0",
   "metadata": {},
   "outputs": [],
   "source": [
    "root.left.left"
   ]
  },
  {
   "cell_type": "code",
   "execution_count": 225,
   "id": "4899f081-8927-4e41-81fa-7ae03892a2d9",
   "metadata": {},
   "outputs": [],
   "source": [
    "root.left.right"
   ]
  },
  {
   "cell_type": "code",
   "execution_count": 226,
   "id": "a8594baf-2758-4388-b8b7-b5dd2d864a78",
   "metadata": {},
   "outputs": [
    {
     "data": {
      "text/plain": [
       "78"
      ]
     },
     "execution_count": 226,
     "metadata": {},
     "output_type": "execute_result"
    }
   ],
   "source": [
    "root.right.data"
   ]
  },
  {
   "cell_type": "code",
   "execution_count": 227,
   "id": "775c8916-d47f-49c0-9a4a-4adfbb944896",
   "metadata": {},
   "outputs": [
    {
     "data": {
      "text/plain": [
       "45"
      ]
     },
     "execution_count": 227,
     "metadata": {},
     "output_type": "execute_result"
    }
   ],
   "source": [
    "root.right.left.data"
   ]
  },
  {
   "cell_type": "code",
   "execution_count": 239,
   "id": "c7e6ff0c-2646-4a63-84d9-043995d86b71",
   "metadata": {},
   "outputs": [],
   "source": [
    "root.right.right"
   ]
  },
  {
   "cell_type": "code",
   "execution_count": 241,
   "id": "e7507b1b-9a90-4172-8a56-69a1316ab177",
   "metadata": {},
   "outputs": [
    {
     "ename": "AttributeError",
     "evalue": "'NoneType' object has no attribute 'data'",
     "output_type": "error",
     "traceback": [
      "\u001b[1;31m---------------------------------------------------------------------------\u001b[0m",
      "\u001b[1;31mAttributeError\u001b[0m                            Traceback (most recent call last)",
      "\u001b[1;32m<ipython-input-241-b62f076ba6e9>\u001b[0m in \u001b[0;36m<module>\u001b[1;34m\u001b[0m\n\u001b[1;32m----> 1\u001b[1;33m \u001b[0mroot\u001b[0m\u001b[1;33m.\u001b[0m\u001b[0mleft\u001b[0m\u001b[1;33m.\u001b[0m\u001b[0mright\u001b[0m\u001b[1;33m.\u001b[0m\u001b[0mdata\u001b[0m\u001b[1;33m\u001b[0m\u001b[1;33m\u001b[0m\u001b[0m\n\u001b[0m",
      "\u001b[1;31mAttributeError\u001b[0m: 'NoneType' object has no attribute 'data'"
     ]
    }
   ],
   "source": [
    "/root.left.right.data"
   ]
  },
  {
   "cell_type": "code",
   "execution_count": 229,
   "id": "3cfeca16-06e6-4308-9cd5-2c025c1a60b3",
   "metadata": {},
   "outputs": [],
   "source": [
    "def pre_order_traversal(root):\n",
    "    if root==None:\n",
    "        return\n",
    "    else:\n",
    "        print(root.data)\n",
    "        pre_order_traversal(root.left)\n",
    "        pre_order_traversal(root.right)"
   ]
  },
  {
   "cell_type": "code",
   "execution_count": 230,
   "id": "cf4c4507-6344-4047-9565-05351028b62b",
   "metadata": {},
   "outputs": [
    {
     "name": "stdout",
     "output_type": "stream",
     "text": [
      "4\n",
      "0.7\n",
      "78\n",
      "45\n",
      "14\n"
     ]
    }
   ],
   "source": [
    "pre_order_traversal(root)"
   ]
  },
  {
   "cell_type": "code",
   "execution_count": 231,
   "id": "e0a241b3-36db-4b10-bd65-89fb2c51c63a",
   "metadata": {},
   "outputs": [],
   "source": [
    "def in_order_traversal(root):\n",
    "    if root==None:\n",
    "        return\n",
    "    else:\n",
    "#         print(root.data)\n",
    "        in_order_traversal(root.left)\n",
    "        print(root.data)\n",
    "        in_order_traversal(root.right)"
   ]
  },
  {
   "cell_type": "code",
   "execution_count": 232,
   "id": "da4dc400-ead7-43db-a7c4-89c4ae9c883b",
   "metadata": {},
   "outputs": [
    {
     "name": "stdout",
     "output_type": "stream",
     "text": [
      "0.7\n",
      "4\n",
      "14\n",
      "45\n",
      "78\n"
     ]
    }
   ],
   "source": [
    "in_order_traversal(root)"
   ]
  },
  {
   "cell_type": "code",
   "execution_count": 233,
   "id": "d70659f6-01e2-4f3b-acbb-f33e84b56488",
   "metadata": {},
   "outputs": [],
   "source": [
    "def post_order_traversal(root):\n",
    "    if root==None:\n",
    "        return\n",
    "    else:\n",
    "#         print(root.data)\n",
    "        post_order_traversal(root.left)\n",
    "        \n",
    "        post_order_traversal(root.right)\n",
    "        \n",
    "        print(root.data)"
   ]
  },
  {
   "cell_type": "code",
   "execution_count": 234,
   "id": "c8ae96ae-bcce-4246-96f0-db1dfd6898b4",
   "metadata": {},
   "outputs": [
    {
     "name": "stdout",
     "output_type": "stream",
     "text": [
      "0.7\n",
      "14\n",
      "45\n",
      "78\n",
      "4\n"
     ]
    }
   ],
   "source": [
    "post_order_traversal(root)"
   ]
  },
  {
   "cell_type": "code",
   "execution_count": 235,
   "id": "c7d4d560-5598-4be6-a12d-809ecc7621df",
   "metadata": {},
   "outputs": [],
   "source": [
    "class Nodes:\n",
    "    def __init__(self,value):\n",
    "        self.value=value\n",
    "        self.next=None\n",
    "        \n",
    "class Linked_List:\n",
    "    def __init__(self):\n",
    "        self.head=None\n",
    "        self.tail=None\n",
    "\n",
    "class Queue:\n",
    "    def __init__(self):\n",
    "        self.items=Linked_List()\n",
    "        \n",
    "    def enqueue(self,value):\n",
    "        node=Nodes(value)\n",
    "        if self.items.head is not None:\n",
    "        \n",
    "            self.items.tail.next=node\n",
    "            self.items.tail=node\n",
    "            \n",
    "        else:\n",
    "            self.items.head=node\n",
    "            self.items.tail=node\n",
    "            \n",
    "    def is_empty(self):\n",
    "        if self.items.head is None:\n",
    "            return True\n",
    "        else:\n",
    "            return False\n",
    "    \n",
    "    \n",
    "    def dequeue(self):\n",
    "        if self.is_empty():\n",
    "            return \"Can't dequeue, dumbass!\"\n",
    "        else:\n",
    "            temp=self.items.head\n",
    "#             temp1=temp\n",
    "            \n",
    "            if self.items.head==self.items.tail:\n",
    "                \n",
    "                self.items.tail=None\n",
    "                self.items.head=None\n",
    "                \n",
    "            else:\n",
    "                self.items.head=self.items.head.next\n",
    "                \n",
    "            return temp\n",
    "    \n",
    "    def peep(self):\n",
    "        if self.is_empty():\n",
    "            return \"Can't peep, dumbass!\"\n",
    "        else:\n",
    "            return self.items.head.value\n",
    "            \n",
    "    def delete(self):\n",
    "        if self.is_empty():\n",
    "            return \"Can't delete, dumbass!\"\n",
    "        else:\n",
    "            self.items.head, self.items.tail=None\n",
    "            return self.items.head.value"
   ]
  },
  {
   "cell_type": "code",
   "execution_count": 236,
   "id": "b03c59ea-2e77-4dfc-b0b1-74d666e3397d",
   "metadata": {},
   "outputs": [],
   "source": [
    "def level_order_traversal(root):\n",
    "    if not root:\n",
    "        return\n",
    "    else:\n",
    "        q=Queue()\n",
    "        q.enqueue(root)\n",
    "        \n",
    "        if not q.is_empty():\n",
    "            r=q.dequeue()\n",
    "            print(r.value.data)\n",
    "        \n",
    "        if r.value.left is not None:\n",
    "            level_order_traversal(r.value.left)\n",
    "        if r.value.right is not None:\n",
    "            level_order_traversal(r.value.right)"
   ]
  },
  {
   "cell_type": "code",
   "execution_count": 237,
   "id": "8f0a27ab-a127-4377-b480-c2b60cf7b0ed",
   "metadata": {},
   "outputs": [
    {
     "name": "stdout",
     "output_type": "stream",
     "text": [
      "4\n",
      "0.7\n",
      "78\n",
      "45\n",
      "14\n"
     ]
    }
   ],
   "source": [
    "level_order_traversal(root)"
   ]
  },
  {
   "cell_type": "code",
   "execution_count": null,
   "id": "f5d5d647-af75-4320-94ae-2fabda1e69a9",
   "metadata": {},
   "outputs": [],
   "source": []
  },
  {
   "cell_type": "markdown",
   "id": "96e6c458-30d9-46ed-b0c4-46a64de4b354",
   "metadata": {},
   "source": []
  },
  {
   "cell_type": "code",
   "execution_count": null,
   "id": "b73696fe-2b15-42d5-bcfd-5b446c494010",
   "metadata": {},
   "outputs": [],
   "source": []
  },
  {
   "cell_type": "code",
   "execution_count": null,
   "id": "338b7f85-865c-43b2-9666-62421beacb66",
   "metadata": {},
   "outputs": [],
   "source": []
  },
  {
   "cell_type": "code",
   "execution_count": null,
   "id": "16bface5-9ed9-4e39-b181-ed6d91313fba",
   "metadata": {},
   "outputs": [],
   "source": []
  },
  {
   "cell_type": "code",
   "execution_count": null,
   "id": "705f885d-692e-45b4-8816-7a5282cac874",
   "metadata": {},
   "outputs": [],
   "source": []
  },
  {
   "cell_type": "code",
   "execution_count": null,
   "id": "7fc2d858-060a-4f9d-85f3-27aeafca7dda",
   "metadata": {},
   "outputs": [],
   "source": []
  },
  {
   "cell_type": "code",
   "execution_count": null,
   "id": "2bd67c4a-dd87-468d-b26f-28c6cb098f05",
   "metadata": {},
   "outputs": [],
   "source": []
  },
  {
   "cell_type": "code",
   "execution_count": null,
   "id": "d8ef458f-31a6-4864-a3e9-5ea468d0ac64",
   "metadata": {},
   "outputs": [],
   "source": []
  },
  {
   "cell_type": "code",
   "execution_count": null,
   "id": "72f626f4-04fc-475f-98e5-209e856954fb",
   "metadata": {},
   "outputs": [],
   "source": []
  },
  {
   "cell_type": "code",
   "execution_count": null,
   "id": "8a51087f-519f-4eb8-939b-fb6ea01edea4",
   "metadata": {},
   "outputs": [],
   "source": []
  },
  {
   "cell_type": "code",
   "execution_count": null,
   "id": "008c0e1b-28a5-4e3a-9c08-f92e3de74135",
   "metadata": {},
   "outputs": [],
   "source": []
  },
  {
   "cell_type": "code",
   "execution_count": null,
   "id": "5c74ac14-a09d-4749-b80c-abf8aa0d2fae",
   "metadata": {},
   "outputs": [],
   "source": []
  },
  {
   "cell_type": "code",
   "execution_count": null,
   "id": "810e5e16-658a-47bf-a72a-7651cef7cb54",
   "metadata": {},
   "outputs": [],
   "source": []
  }
 ],
 "metadata": {
  "kernelspec": {
   "display_name": "Python 3",
   "language": "python",
   "name": "python3"
  },
  "language_info": {
   "codemirror_mode": {
    "name": "ipython",
    "version": 3
   },
   "file_extension": ".py",
   "mimetype": "text/x-python",
   "name": "python",
   "nbconvert_exporter": "python",
   "pygments_lexer": "ipython3",
   "version": "3.8.5"
  }
 },
 "nbformat": 4,
 "nbformat_minor": 5
}
