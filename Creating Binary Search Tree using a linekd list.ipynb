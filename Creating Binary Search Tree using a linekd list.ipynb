{
 "cells": [
  {
   "cell_type": "code",
   "execution_count": 1,
   "id": "0f17f5ec-6578-47ab-b991-82d18b3714d9",
   "metadata": {},
   "outputs": [],
   "source": [
    "class Binary_search_tree:\n",
    "    def __init__(self,data):\n",
    "        self.data=data\n",
    "        self.left=None\n",
    "        self.right=None"
   ]
  },
  {
   "cell_type": "code",
   "execution_count": 2,
   "id": "5b5304e8-a176-45ca-ac3d-40693daf3434",
   "metadata": {},
   "outputs": [],
   "source": [
    "root=Binary_search_tree(4)"
   ]
  },
  {
   "cell_type": "code",
   "execution_count": 3,
   "id": "35ea5d4d-f098-4e0c-bee0-a60a0497b8fd",
   "metadata": {},
   "outputs": [
    {
     "data": {
      "text/plain": [
       "<__main__.Binary_search_tree at 0x1a0709b5910>"
      ]
     },
     "execution_count": 3,
     "metadata": {},
     "output_type": "execute_result"
    }
   ],
   "source": [
    "root"
   ]
  },
  {
   "cell_type": "code",
   "execution_count": 4,
   "id": "e1284366-5499-4401-9c3a-56e2be3af36b",
   "metadata": {},
   "outputs": [
    {
     "data": {
      "text/plain": [
       "4"
      ]
     },
     "execution_count": 4,
     "metadata": {},
     "output_type": "execute_result"
    }
   ],
   "source": [
    "root.data"
   ]
  },
  {
   "cell_type": "code",
   "execution_count": 5,
   "id": "ac9a56ad-041d-4e1d-9eba-b5befdcfb5f7",
   "metadata": {},
   "outputs": [],
   "source": [
    "root.left"
   ]
  },
  {
   "cell_type": "code",
   "execution_count": 6,
   "id": "f84bf6c6-f10e-4c00-9c64-498ba8d5039a",
   "metadata": {},
   "outputs": [],
   "source": [
    "root.right"
   ]
  },
  {
   "cell_type": "code",
   "execution_count": null,
   "id": "e7961bd3-507c-4c10-a3de-aaa2528b49dd",
   "metadata": {},
   "outputs": [],
   "source": []
  }
 ],
 "metadata": {
  "kernelspec": {
   "display_name": "Python 3",
   "language": "python",
   "name": "python3"
  },
  "language_info": {
   "codemirror_mode": {
    "name": "ipython",
    "version": 3
   },
   "file_extension": ".py",
   "mimetype": "text/x-python",
   "name": "python",
   "nbconvert_exporter": "python",
   "pygments_lexer": "ipython3",
   "version": "3.8.5"
  }
 },
 "nbformat": 4,
 "nbformat_minor": 5
}
